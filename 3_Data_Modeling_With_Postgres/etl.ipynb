{
 "cells": [
  {
   "cell_type": "markdown",
   "metadata": {},
   "source": [
    "# ETL Processes\n",
    "Use this notebook to develop the ETL process for each of your tables before completing the `etl.py` file to load the whole datasets."
   ]
  },
  {
   "cell_type": "code",
   "execution_count": 31,
   "metadata": {},
   "outputs": [],
   "source": [
    "import os\n",
    "import glob\n",
    "from pathlib import Path\n",
    "import psycopg2\n",
    "import pandas as pd\n",
    "from sql_queries import *\n",
    "from typing import List"
   ]
  },
  {
   "cell_type": "code",
   "execution_count": 2,
   "metadata": {},
   "outputs": [],
   "source": [
    "conn = psycopg2.connect(\"host=127.0.0.1 dbname=sparkifydb user=student password=student\")\n",
    "cur = conn.cursor()"
   ]
  },
  {
   "cell_type": "code",
   "execution_count": 3,
   "metadata": {},
   "outputs": [],
   "source": [
    "def get_files(filepath):\n",
    "    all_files = []\n",
    "    for root, dirs, files in os.walk(filepath):\n",
    "        files = glob.glob(os.path.join(root,'*.json'))\n",
    "        for f in files :\n",
    "            all_files.append(os.path.abspath(f))\n",
    "    \n",
    "    return all_files"
   ]
  },
  {
   "cell_type": "markdown",
   "metadata": {},
   "source": [
    "# Process `song_data`\n",
    "In this first part, you'll perform ETL on the first dataset, `song_data`, to create the `songs` and `artists` dimensional tables.\n",
    "\n",
    "Let's perform ETL on a single song file and load a single record into each table to start.\n",
    "- Use the `get_files` function provided above to get a list of all song JSON files in `data/song_data`\n",
    "- Select the first song in this list\n",
    "- Read the song file and view the data"
   ]
  },
  {
   "cell_type": "code",
   "execution_count": 8,
   "metadata": {},
   "outputs": [
    {
     "data": {
      "text/plain": [
       "'c:\\\\Users\\\\tew\\\\Training\\\\data_engineering_udacity\\\\3_Data_Modeling_With_Postgres'"
      ]
     },
     "execution_count": 8,
     "metadata": {},
     "output_type": "execute_result"
    }
   ],
   "source": [
    "os.getcwd()"
   ]
  },
  {
   "cell_type": "code",
   "execution_count": 26,
   "metadata": {},
   "outputs": [],
   "source": [
    "json_pattern = os.path.join(r\"data\",\"song_data\")\n"
   ]
  },
  {
   "cell_type": "code",
   "execution_count": 30,
   "metadata": {},
   "outputs": [
    {
     "name": "stdout",
     "output_type": "stream",
     "text": [
      "data\\song_data\\A\\A\\A\\TRAAAAW128F429D538.json\n",
      "data\\song_data\\A\\A\\A\\TRAAABD128F429CF47.json\n",
      "data\\song_data\\A\\A\\A\\TRAAADZ128F9348C2E.json\n",
      "data\\song_data\\A\\A\\A\\TRAAAEF128F4273421.json\n",
      "data\\song_data\\A\\A\\A\\TRAAAFD128F92F423A.json\n",
      "data\\song_data\\A\\A\\A\\TRAAAMO128F1481E7F.json\n",
      "data\\song_data\\A\\A\\A\\TRAAAMQ128F1460CD3.json\n",
      "data\\song_data\\A\\A\\A\\TRAAAPK128E0786D96.json\n",
      "data\\song_data\\A\\A\\A\\TRAAARJ128F9320760.json\n",
      "data\\song_data\\A\\A\\A\\TRAAAVG12903CFA543.json\n",
      "data\\song_data\\A\\A\\A\\TRAAAVO128F93133D4.json\n",
      "data\\song_data\\A\\A\\B\\TRAABCL128F4286650.json\n",
      "data\\song_data\\A\\A\\B\\TRAABDL12903CAABBA.json\n",
      "data\\song_data\\A\\A\\B\\TRAABJL12903CDCF1A.json\n",
      "data\\song_data\\A\\A\\B\\TRAABJV128F1460C49.json\n",
      "data\\song_data\\A\\A\\B\\TRAABLR128F423B7E3.json\n",
      "data\\song_data\\A\\A\\B\\TRAABNV128F425CEE1.json\n",
      "data\\song_data\\A\\A\\B\\TRAABRB128F9306DD5.json\n",
      "data\\song_data\\A\\A\\B\\TRAABVM128F92CA9DC.json\n",
      "data\\song_data\\A\\A\\B\\TRAABXG128F9318EBD.json\n",
      "data\\song_data\\A\\A\\B\\TRAABYN12903CFD305.json\n",
      "data\\song_data\\A\\A\\B\\TRAABYW128F4244559.json\n",
      "data\\song_data\\A\\A\\C\\TRAACCG128F92E8A55.json\n",
      "data\\song_data\\A\\A\\C\\TRAACER128F4290F96.json\n",
      "data\\song_data\\A\\A\\C\\TRAACFV128F935E50B.json\n",
      "data\\song_data\\A\\A\\C\\TRAACHN128F1489601.json\n",
      "data\\song_data\\A\\A\\C\\TRAACIW12903CC0F6D.json\n",
      "data\\song_data\\A\\A\\C\\TRAACLV128F427E123.json\n",
      "data\\song_data\\A\\A\\C\\TRAACNS128F14A2DF5.json\n",
      "data\\song_data\\A\\A\\C\\TRAACOW128F933E35F.json\n",
      "data\\song_data\\A\\A\\C\\TRAACPE128F421C1B9.json\n",
      "data\\song_data\\A\\A\\C\\TRAACQT128F9331780.json\n",
      "data\\song_data\\A\\A\\C\\TRAACSL128F93462F4.json\n",
      "data\\song_data\\A\\A\\C\\TRAACTB12903CAAF15.json\n",
      "data\\song_data\\A\\A\\C\\TRAACVS128E078BE39.json\n",
      "data\\song_data\\A\\A\\C\\TRAACZK128F4243829.json\n",
      "data\\song_data\\A\\B\\A\\TRABACN128F425B784.json\n",
      "data\\song_data\\A\\B\\A\\TRABAFJ128F42AF24E.json\n",
      "data\\song_data\\A\\B\\A\\TRABAFP128F931E9A1.json\n",
      "data\\song_data\\A\\B\\A\\TRABAIO128F42938F9.json\n",
      "data\\song_data\\A\\B\\A\\TRABATO128F42627E9.json\n",
      "data\\song_data\\A\\B\\A\\TRABAVQ12903CBF7E0.json\n",
      "data\\song_data\\A\\B\\A\\TRABAWW128F4250A31.json\n",
      "data\\song_data\\A\\B\\A\\TRABAXL128F424FC50.json\n",
      "data\\song_data\\A\\B\\A\\TRABAXR128F426515F.json\n",
      "data\\song_data\\A\\B\\A\\TRABAXV128F92F6AE3.json\n",
      "data\\song_data\\A\\B\\A\\TRABAZH128F930419A.json\n",
      "data\\song_data\\A\\B\\B\\TRABBAM128F429D223.json\n",
      "data\\song_data\\A\\B\\B\\TRABBBV128F42967D7.json\n",
      "data\\song_data\\A\\B\\B\\TRABBJE12903CDB442.json\n",
      "data\\song_data\\A\\B\\B\\TRABBKX128F4285205.json\n",
      "data\\song_data\\A\\B\\B\\TRABBLU128F93349CF.json\n",
      "data\\song_data\\A\\B\\B\\TRABBNP128F932546F.json\n",
      "data\\song_data\\A\\B\\B\\TRABBOP128F931B50D.json\n",
      "data\\song_data\\A\\B\\B\\TRABBOR128F4286200.json\n",
      "data\\song_data\\A\\B\\B\\TRABBTA128F933D304.json\n",
      "data\\song_data\\A\\B\\B\\TRABBVJ128F92F7EAA.json\n",
      "data\\song_data\\A\\B\\B\\TRABBXU128F92FEF48.json\n",
      "data\\song_data\\A\\B\\B\\TRABBZN12903CD9297.json\n",
      "data\\song_data\\A\\B\\C\\TRABCAJ12903CDFCC2.json\n",
      "data\\song_data\\A\\B\\C\\TRABCEC128F426456E.json\n",
      "data\\song_data\\A\\B\\C\\TRABCEI128F424C983.json\n",
      "data\\song_data\\A\\B\\C\\TRABCFL128F149BB0D.json\n",
      "data\\song_data\\A\\B\\C\\TRABCIX128F4265903.json\n",
      "data\\song_data\\A\\B\\C\\TRABCKL128F423A778.json\n",
      "data\\song_data\\A\\B\\C\\TRABCPZ128F4275C32.json\n",
      "data\\song_data\\A\\B\\C\\TRABCRU128F423F449.json\n",
      "data\\song_data\\A\\B\\C\\TRABCTK128F934B224.json\n",
      "data\\song_data\\A\\B\\C\\TRABCUQ128E0783E2B.json\n",
      "data\\song_data\\A\\B\\C\\TRABCXB128F4286BD3.json\n",
      "data\\song_data\\A\\B\\C\\TRABCYE128F934CE1D.json\n"
     ]
    }
   ],
   "source": [
    "def find_all_files_in_subdirectories(dir_path: os.PathLike, extension: str) -> List:\n",
    "    list_files_paths = [\n",
    "        path_to_file\n",
    "        for path_to_file in Path(dir_path).rglob(f'*.{extension}')\n",
    "    ]\n",
    "    return list_files_paths\n",
    "    "
   ]
  },
  {
   "cell_type": "code",
   "execution_count": 27,
   "metadata": {},
   "outputs": [
    {
     "name": "stdout",
     "output_type": "stream",
     "text": [
      "TRAAAAW128F429D538.json\n",
      "TRAAABD128F429CF47.json\n",
      "TRAAADZ128F9348C2E.json\n",
      "TRAAAEF128F4273421.json\n",
      "TRAAAFD128F92F423A.json\n",
      "TRAAAMO128F1481E7F.json\n",
      "TRAAAMQ128F1460CD3.json\n",
      "TRAAAPK128E0786D96.json\n",
      "TRAAARJ128F9320760.json\n",
      "TRAAAVG12903CFA543.json\n",
      "TRAAAVO128F93133D4.json\n",
      "TRAABCL128F4286650.json\n",
      "TRAABDL12903CAABBA.json\n",
      "TRAABJL12903CDCF1A.json\n",
      "TRAABJV128F1460C49.json\n",
      "TRAABLR128F423B7E3.json\n",
      "TRAABNV128F425CEE1.json\n",
      "TRAABRB128F9306DD5.json\n",
      "TRAABVM128F92CA9DC.json\n",
      "TRAABXG128F9318EBD.json\n",
      "TRAABYN12903CFD305.json\n",
      "TRAABYW128F4244559.json\n",
      "TRAACCG128F92E8A55.json\n",
      "TRAACER128F4290F96.json\n",
      "TRAACFV128F935E50B.json\n",
      "TRAACHN128F1489601.json\n",
      "TRAACIW12903CC0F6D.json\n",
      "TRAACLV128F427E123.json\n",
      "TRAACNS128F14A2DF5.json\n",
      "TRAACOW128F933E35F.json\n",
      "TRAACPE128F421C1B9.json\n",
      "TRAACQT128F9331780.json\n",
      "TRAACSL128F93462F4.json\n",
      "TRAACTB12903CAAF15.json\n",
      "TRAACVS128E078BE39.json\n",
      "TRAACZK128F4243829.json\n",
      "TRABACN128F425B784.json\n",
      "TRABAFJ128F42AF24E.json\n",
      "TRABAFP128F931E9A1.json\n",
      "TRABAIO128F42938F9.json\n",
      "TRABATO128F42627E9.json\n",
      "TRABAVQ12903CBF7E0.json\n",
      "TRABAWW128F4250A31.json\n",
      "TRABAXL128F424FC50.json\n",
      "TRABAXR128F426515F.json\n",
      "TRABAXV128F92F6AE3.json\n",
      "TRABAZH128F930419A.json\n",
      "TRABBAM128F429D223.json\n",
      "TRABBBV128F42967D7.json\n",
      "TRABBJE12903CDB442.json\n",
      "TRABBKX128F4285205.json\n",
      "TRABBLU128F93349CF.json\n",
      "TRABBNP128F932546F.json\n",
      "TRABBOP128F931B50D.json\n",
      "TRABBOR128F4286200.json\n",
      "TRABBTA128F933D304.json\n",
      "TRABBVJ128F92F7EAA.json\n",
      "TRABBXU128F92FEF48.json\n",
      "TRABBZN12903CD9297.json\n",
      "TRABCAJ12903CDFCC2.json\n",
      "TRABCEC128F426456E.json\n",
      "TRABCEI128F424C983.json\n",
      "TRABCFL128F149BB0D.json\n",
      "TRABCIX128F4265903.json\n",
      "TRABCKL128F423A778.json\n",
      "TRABCPZ128F4275C32.json\n",
      "TRABCRU128F423F449.json\n",
      "TRABCTK128F934B224.json\n",
      "TRABCUQ128E0783E2B.json\n",
      "TRABCXB128F4286BD3.json\n",
      "TRABCYE128F934CE1D.json\n"
     ]
    }
   ],
   "source": [
    "for root, dirs, files in os.walk(json_pattern):\n",
    "    for name in files:\n",
    "        if name.endswith((\".json\")):\n",
    "            print(name)a\n",
    "            full_path = os.path.join(root, name)"
   ]
  },
  {
   "cell_type": "code",
   "execution_count": 28,
   "metadata": {},
   "outputs": [
    {
     "data": {
      "text/plain": [
       "'data\\\\song_data\\\\A\\\\B\\\\C\\\\TRABCYE128F934CE1D.json'"
      ]
     },
     "execution_count": 28,
     "metadata": {},
     "output_type": "execute_result"
    }
   ],
   "source": [
    "full_path"
   ]
  },
  {
   "cell_type": "code",
   "execution_count": null,
   "metadata": {},
   "outputs": [],
   "source": [
    "song_files = "
   ]
  },
  {
   "cell_type": "code",
   "execution_count": null,
   "metadata": {},
   "outputs": [],
   "source": [
    "filepath = "
   ]
  },
  {
   "cell_type": "code",
   "execution_count": null,
   "metadata": {},
   "outputs": [],
   "source": [
    "df = \n",
    "df.head()"
   ]
  },
  {
   "cell_type": "markdown",
   "metadata": {},
   "source": [
    "## #1: `songs` Table\n",
    "#### Extract Data for Songs Table\n",
    "- Select columns for song ID, title, artist ID, year, and duration\n",
    "- Use `df.values` to select just the values from the dataframe\n",
    "- Index to select the first (only) record in the dataframe\n",
    "- Convert the array to a list and set it to `song_data`"
   ]
  },
  {
   "cell_type": "code",
   "execution_count": null,
   "metadata": {},
   "outputs": [],
   "source": [
    "song_data = \n",
    "song_data"
   ]
  },
  {
   "cell_type": "markdown",
   "metadata": {},
   "source": [
    "#### Insert Record into Song Table\n",
    "Implement the `song_table_insert` query in `sql_queries.py` and run the cell below to insert a record for this song into the `songs` table. Remember to run `create_tables.py` before running the cell below to ensure you've created/resetted the `songs` table in the sparkify database."
   ]
  },
  {
   "cell_type": "code",
   "execution_count": null,
   "metadata": {},
   "outputs": [],
   "source": [
    "cur.execute(song_table_insert, song_data)\n",
    "conn.commit()"
   ]
  },
  {
   "cell_type": "markdown",
   "metadata": {},
   "source": [
    "Run `test.ipynb` to see if you've successfully added a record to this table."
   ]
  },
  {
   "cell_type": "markdown",
   "metadata": {},
   "source": [
    "## #2: `artists` Table\n",
    "#### Extract Data for Artists Table\n",
    "- Select columns for artist ID, name, location, latitude, and longitude\n",
    "- Use `df.values` to select just the values from the dataframe\n",
    "- Index to select the first (only) record in the dataframe\n",
    "- Convert the array to a list and set it to `artist_data`"
   ]
  },
  {
   "cell_type": "code",
   "execution_count": null,
   "metadata": {},
   "outputs": [],
   "source": [
    "artist_data = \n",
    "artist_data"
   ]
  },
  {
   "cell_type": "markdown",
   "metadata": {},
   "source": [
    "#### Insert Record into Artist Table\n",
    "Implement the `artist_table_insert` query in `sql_queries.py` and run the cell below to insert a record for this song's artist into the `artists` table. Remember to run `create_tables.py` before running the cell below to ensure you've created/resetted the `artists` table in the sparkify database."
   ]
  },
  {
   "cell_type": "code",
   "execution_count": null,
   "metadata": {},
   "outputs": [],
   "source": [
    "cur.execute(artist_table_insert, artist_data)\n",
    "conn.commit()"
   ]
  },
  {
   "cell_type": "markdown",
   "metadata": {},
   "source": [
    "Run `test.ipynb` to see if you've successfully added a record to this table."
   ]
  },
  {
   "cell_type": "markdown",
   "metadata": {},
   "source": [
    "# Process `log_data`\n",
    "In this part, you'll perform ETL on the second dataset, `log_data`, to create the `time` and `users` dimensional tables, as well as the `songplays` fact table.\n",
    "\n",
    "Let's perform ETL on a single log file and load a single record into each table.\n",
    "- Use the `get_files` function provided above to get a list of all log JSON files in `data/log_data`\n",
    "- Select the first log file in this list\n",
    "- Read the log file and view the data"
   ]
  },
  {
   "cell_type": "code",
   "execution_count": null,
   "metadata": {},
   "outputs": [],
   "source": [
    "log_files = "
   ]
  },
  {
   "cell_type": "code",
   "execution_count": null,
   "metadata": {},
   "outputs": [],
   "source": [
    "filepath = "
   ]
  },
  {
   "cell_type": "code",
   "execution_count": null,
   "metadata": {},
   "outputs": [],
   "source": [
    "df = \n",
    "df.head()"
   ]
  },
  {
   "cell_type": "markdown",
   "metadata": {},
   "source": [
    "## #3: `time` Table\n",
    "#### Extract Data for Time Table\n",
    "- Filter records by `NextSong` action\n",
    "- Convert the `ts` timestamp column to datetime\n",
    "  - Hint: the current timestamp is in milliseconds\n",
    "- Extract the timestamp, hour, day, week of year, month, year, and weekday from the `ts` column and set `time_data` to a list containing these values in order\n",
    "  - Hint: use pandas' [`dt` attribute](https://pandas.pydata.org/pandas-docs/stable/reference/api/pandas.Series.dt.html) to access easily datetimelike properties.\n",
    "- Specify labels for these columns and set to `column_labels`\n",
    "- Create a dataframe, `time_df,` containing the time data for this file by combining `column_labels` and `time_data` into a dictionary and converting this into a dataframe"
   ]
  },
  {
   "cell_type": "code",
   "execution_count": null,
   "metadata": {},
   "outputs": [],
   "source": [
    "df = \n",
    "df.head()"
   ]
  },
  {
   "cell_type": "code",
   "execution_count": null,
   "metadata": {},
   "outputs": [],
   "source": [
    "t = \n",
    "t.head()"
   ]
  },
  {
   "cell_type": "code",
   "execution_count": null,
   "metadata": {},
   "outputs": [],
   "source": [
    "time_data = ()\n",
    "column_labels = ()"
   ]
  },
  {
   "cell_type": "code",
   "execution_count": null,
   "metadata": {},
   "outputs": [],
   "source": [
    "time_df = \n",
    "time_df.head()"
   ]
  },
  {
   "cell_type": "markdown",
   "metadata": {},
   "source": [
    "#### Insert Records into Time Table\n",
    "Implement the `time_table_insert` query in `sql_queries.py` and run the cell below to insert records for the timestamps in this log file into the `time` table. Remember to run `create_tables.py` before running the cell below to ensure you've created/resetted the `time` table in the sparkify database."
   ]
  },
  {
   "cell_type": "code",
   "execution_count": null,
   "metadata": {},
   "outputs": [],
   "source": [
    "for i, row in time_df.iterrows():\n",
    "    cur.execute(time_table_insert, list(row))\n",
    "    conn.commit()"
   ]
  },
  {
   "cell_type": "markdown",
   "metadata": {},
   "source": [
    "Run `test.ipynb` to see if you've successfully added records to this table."
   ]
  },
  {
   "cell_type": "markdown",
   "metadata": {},
   "source": [
    "## #4: `users` Table\n",
    "#### Extract Data for Users Table\n",
    "- Select columns for user ID, first name, last name, gender and level and set to `user_df`"
   ]
  },
  {
   "cell_type": "code",
   "execution_count": null,
   "metadata": {},
   "outputs": [],
   "source": [
    "user_df = "
   ]
  },
  {
   "cell_type": "markdown",
   "metadata": {},
   "source": [
    "#### Insert Records into Users Table\n",
    "Implement the `user_table_insert` query in `sql_queries.py` and run the cell below to insert records for the users in this log file into the `users` table. Remember to run `create_tables.py` before running the cell below to ensure you've created/resetted the `users` table in the sparkify database."
   ]
  },
  {
   "cell_type": "code",
   "execution_count": null,
   "metadata": {},
   "outputs": [],
   "source": [
    "for i, row in user_df.iterrows():\n",
    "    cur.execute(user_table_insert, row)\n",
    "    conn.commit()"
   ]
  },
  {
   "cell_type": "markdown",
   "metadata": {},
   "source": [
    "Run `test.ipynb` to see if you've successfully added records to this table."
   ]
  },
  {
   "cell_type": "markdown",
   "metadata": {},
   "source": [
    "## #5: `songplays` Table\n",
    "#### Extract Data and Songplays Table\n",
    "This one is a little more complicated since information from the songs table, artists table, and original log file are all needed for the `songplays` table. Since the log file does not specify an ID for either the song or the artist, you'll need to get the song ID and artist ID by querying the songs and artists tables to find matches based on song title, artist name, and song duration time.\n",
    "- Implement the `song_select` query in `sql_queries.py` to find the song ID and artist ID based on the title, artist name, and duration of a song.\n",
    "- Select the timestamp, user ID, level, song ID, artist ID, session ID, location, and user agent and set to `songplay_data`\n",
    "\n",
    "#### Insert Records into Songplays Table\n",
    "- Implement the `songplay_table_insert` query and run the cell below to insert records for the songplay actions in this log file into the `songplays` table. Remember to run `create_tables.py` before running the cell below to ensure you've created/resetted the `songplays` table in the sparkify database."
   ]
  },
  {
   "cell_type": "code",
   "execution_count": null,
   "metadata": {},
   "outputs": [],
   "source": [
    "for index, row in df.iterrows():\n",
    "\n",
    "    # get songid and artistid from song and artist tables\n",
    "    cur.execute(song_select, (row.song, row.artist, row.length))\n",
    "    results = cur.fetchone()\n",
    "    \n",
    "    if results:\n",
    "        songid, artistid = results\n",
    "    else:\n",
    "        songid, artistid = None, None\n",
    "\n",
    "    # insert songplay record\n",
    "    songplay_data = ()\n",
    "    cur.execute(songplay_table_insert, songplay_data)\n",
    "    conn.commit()"
   ]
  },
  {
   "cell_type": "markdown",
   "metadata": {},
   "source": [
    "Run `test.ipynb` to see if you've successfully added records to this table."
   ]
  },
  {
   "cell_type": "markdown",
   "metadata": {},
   "source": [
    "# Close Connection to Sparkify Database"
   ]
  },
  {
   "cell_type": "code",
   "execution_count": null,
   "metadata": {},
   "outputs": [],
   "source": [
    "conn.close()"
   ]
  },
  {
   "cell_type": "markdown",
   "metadata": {},
   "source": [
    "# Implement `etl.py`\n",
    "Use what you've completed in this notebook to implement `etl.py`."
   ]
  },
  {
   "cell_type": "code",
   "execution_count": null,
   "metadata": {},
   "outputs": [],
   "source": []
  }
 ],
 "metadata": {
  "kernelspec": {
   "display_name": "Python 3",
   "language": "python",
   "name": "python3"
  },
  "language_info": {
   "codemirror_mode": {
    "name": "ipython",
    "version": 3
   },
   "file_extension": ".py",
   "mimetype": "text/x-python",
   "name": "python",
   "nbconvert_exporter": "python",
   "pygments_lexer": "ipython3",
   "version": "3.8.5"
  }
 },
 "nbformat": 4,
 "nbformat_minor": 2
}
